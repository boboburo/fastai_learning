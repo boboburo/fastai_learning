{
  "nbformat": 4,
  "nbformat_minor": 0,
  "metadata": {
    "colab": {
      "name": "04_mnist_practice.ipynb",
      "provenance": [],
      "authorship_tag": "ABX9TyNQNDmVuqfajymVHdhMaNPE",
      "include_colab_link": true
    },
    "kernelspec": {
      "name": "python3",
      "display_name": "Python 3"
    }
  },
  "cells": [
    {
      "cell_type": "markdown",
      "metadata": {
        "id": "view-in-github",
        "colab_type": "text"
      },
      "source": [
        "<a href=\"https://colab.research.google.com/github/boboburo/fastai_learning/blob/main/04_mnist_practice.ipynb\" target=\"_parent\"><img src=\"https://colab.research.google.com/assets/colab-badge.svg\" alt=\"Open In Colab\"/></a>"
      ]
    },
    {
      "cell_type": "code",
      "metadata": {
        "id": "s_qsTZetK-Hg"
      },
      "source": [
        "# read in the data\n",
        "# create the dataloader \n",
        "# multicass"
      ],
      "execution_count": null,
      "outputs": []
    }
  ]
}